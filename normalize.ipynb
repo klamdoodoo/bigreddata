{
 "cells": [
  {
   "cell_type": "code",
   "execution_count": 122,
   "metadata": {},
   "outputs": [],
   "source": [
    "import os\n",
    "import os.path\n",
    "import pandas as pd\n",
    "\n",
    "datadir = \"publicdata\"\n",
    "\n",
    "df_football = pd.read_csv(\"Football 9-12-23_10-17-23.csv\")\n",
    "df_m_basketball = pd.read_csv(\"MBB 9-18-23_10-3-23.csv\")\n",
    "df_w_basketball = pd.read_csv(\"WBB 9-18-23_10-16-23.csv\")\n",
    "df_volleyball = pd.read_csv(\"VB 9-18-23_10-9-23.csv\")"
   ]
  },
  {
   "cell_type": "code",
   "execution_count": 123,
   "metadata": {},
   "outputs": [],
   "source": [
    "df_football_sel = df_football[[\"TestId\", \"Date\", \"Athlete Code\", \"L|R Peak Braking Force\", \"L|R Avg. Braking Force\", \"L|R Braking Impulse Index\", \"L|R Peak Propulsive Force\", \"L|R Avg. Propulsive Force\", \"L|R Propulsive Impulse Index\", \"L|R Peak Landing Force\", \"L|R Avg. Landing Force\", \"L|R Landing Impulse Index\"]]\n",
    "df_m_basketball_sel = df_m_basketball[[\"TestId\", \"Date\", \"Athlete Code\", \"L|R Peak Braking Force\", \"L|R Avg. Braking Force\", \"L|R Braking Impulse Index\", \"L|R Peak Propulsive Force\", \"L|R Avg. Propulsive Force\", \"L|R Propulsive Impulse Index\", \"L|R Peak Landing Force\", \"L|R Avg. Landing Force\", \"L|R Landing Impulse Index\" ]]\n",
    "df_w_basketball_sel = df_w_basketball[[\"TestId\", \"Date\", \"Athlete Code\", \"L|R Peak Braking Force\", \"L|R Avg. Braking Force\", \"L|R Braking Impulse Index\", \"L|R Peak Propulsive Force\", \"L|R Avg. Propulsive Force\", \"L|R Propulsive Impulse Index\", \"L|R Peak Landing Force\", \"L|R Avg. Landing Force\", \"L|R Landing Impulse Index\" ]]\n",
    "df_volleyball_sel = df_volleyball[[\"TestId\", \"Date\", \"Athlete Code\", \"L|R Peak Braking Force\", \"L|R Avg. Braking Force\",\"L|R Braking Impulse Index\", \"L|R Peak Propulsive Force\", \"L|R Avg. Propulsive Force\", \"L|R Propulsive Impulse Index\", \"L|R Peak Landing Force\", \"L|R Avg. Landing Force\", \"L|R Landing Impulse Index\" ]]"
   ]
  },
  {
   "cell_type": "code",
   "execution_count": 124,
   "metadata": {},
   "outputs": [],
   "source": [
    "df_info_football = df_football_sel[[\"TestId\", \"Date\", \"Athlete Code\"]]\n",
    "df_final_1_football = pd.concat([df_info_football, df_info_football, df_info_football], axis = 0)\n",
    "\n",
    "df_info_m_basketball = df_m_basketball_sel[[\"TestId\", \"Date\", \"Athlete Code\"]]\n",
    "df_final_1_m_basketball = pd.concat([df_info_m_basketball, df_info_m_basketball, df_info_m_basketball], axis = 0)\n",
    "\n",
    "df_info_w_basketball = df_w_basketball_sel[[\"TestId\", \"Date\", \"Athlete Code\"]]\n",
    "df_final_1_w_basketball = pd.concat([df_info_w_basketball, df_info_w_basketball, df_info_w_basketball], axis = 0)\n",
    "\n",
    "df_info_volleyball = df_volleyball_sel[[\"TestId\", \"Date\", \"Athlete Code\"]]\n",
    "df_final_1_volleyball = pd.concat([df_info_volleyball, df_info_volleyball, df_info_volleyball], axis = 0)"
   ]
  },
  {
   "cell_type": "code",
   "execution_count": 125,
   "metadata": {},
   "outputs": [],
   "source": [
    "df_braking_football = df_football_sel[[\"L|R Peak Braking Force\", \"L|R Avg. Braking Force\", \"L|R Braking Impulse Index\"]]\n",
    "df_propulsive_football = df_football_sel[[\"L|R Peak Propulsive Force\", \"L|R Avg. Propulsive Force\", \"L|R Propulsive Impulse Index\"]]\n",
    "df_landing_football = df_football_sel[[\"L|R Peak Landing Force\", \"L|R Avg. Landing Force\", \"L|R Landing Impulse Index\"]]\n",
    "\n",
    "df_braking_m_basketball = df_m_basketball_sel[[\"L|R Peak Braking Force\", \"L|R Avg. Braking Force\", \"L|R Braking Impulse Index\"]]\n",
    "df_propulsive_m_basketball = df_m_basketball_sel[[\"L|R Peak Propulsive Force\", \"L|R Avg. Propulsive Force\", \"L|R Propulsive Impulse Index\"]]\n",
    "df_landing_m_basketball = df_m_basketball_sel[[\"L|R Peak Landing Force\", \"L|R Avg. Landing Force\", \"L|R Landing Impulse Index\"]]\n",
    "\n",
    "df_braking_w_basketball = df_w_basketball[[\"L|R Peak Braking Force\", \"L|R Avg. Braking Force\", \"L|R Braking Impulse Index\"]]\n",
    "df_propulsive_w_basketball = df_w_basketball[[\"L|R Peak Propulsive Force\", \"L|R Avg. Propulsive Force\", \"L|R Propulsive Impulse Index\"]]\n",
    "df_landing_w_basketball = df_w_basketball[[\"L|R Peak Landing Force\", \"L|R Avg. Landing Force\", \"L|R Landing Impulse Index\"]]\n",
    "\n",
    "df_braking_volleyball = df_volleyball[[\"L|R Peak Braking Force\", \"L|R Avg. Braking Force\", \"L|R Braking Impulse Index\"]]\n",
    "df_propulsive_volleyball= df_volleyball[[\"L|R Peak Propulsive Force\", \"L|R Avg. Propulsive Force\", \"L|R Propulsive Impulse Index\"]]\n",
    "df_landing_volleyball = df_volleyball[[\"L|R Peak Landing Force\", \"L|R Avg. Landing Force\", \"L|R Landing Impulse Index\"]]"
   ]
  },
  {
   "cell_type": "code",
   "execution_count": 126,
   "metadata": {},
   "outputs": [],
   "source": [
    "df_braking_football.insert(0, \"Stage\", \"Braking\")\n",
    "df_propulsive_football.insert(0, \"Stage\", \"Propulsive\")\n",
    "df_landing_football.insert(0, \"Stage\", \"Landing\")\n",
    "\n",
    "df_braking_m_basketball.insert(0, \"Stage\", \"Braking\")\n",
    "df_propulsive_m_basketball.insert(0, \"Stage\", \"Propulsive\")\n",
    "df_landing_m_basketball.insert(0, \"Stage\", \"Landing\")\n",
    "\n",
    "df_braking_w_basketball.insert(0, \"Stage\", \"Braking\")\n",
    "df_propulsive_w_basketball.insert(0, \"Stage\", \"Propulsive\")\n",
    "df_landing_w_basketball.insert(0, \"Stage\", \"Landing\")\n",
    "\n",
    "df_braking_volleyball.insert(0, \"Stage\", \"Braking\")\n",
    "df_propulsive_volleyball.insert(0, \"Stage\", \"Propulsive\")\n",
    "df_landing_volleyball.insert(0, \"Stage\", \"Landing\")"
   ]
  },
  {
   "cell_type": "code",
   "execution_count": 128,
   "metadata": {},
   "outputs": [
    {
     "ename": "ValueError",
     "evalue": "Length mismatch: Expected axis has 4 elements, new values have 3 elements",
     "output_type": "error",
     "traceback": [
      "\u001b[0;31m---------------------------------------------------------------------------\u001b[0m",
      "\u001b[0;31mValueError\u001b[0m                                Traceback (most recent call last)",
      "\u001b[0;32m/var/folders/s_/kgcrc06d2vg54yxmlqm3tygw0000gn/T/ipykernel_6780/3910577911.py\u001b[0m in \u001b[0;36m<module>\u001b[0;34m\u001b[0m\n\u001b[1;32m      1\u001b[0m \u001b[0mdf_braking_football\u001b[0m\u001b[0;34m.\u001b[0m\u001b[0mcolumns\u001b[0m \u001b[0;34m=\u001b[0m \u001b[0;34m[\u001b[0m\u001b[0;34m\"Stage\"\u001b[0m\u001b[0;34m,\u001b[0m \u001b[0;34m\"L|R Peak Force\"\u001b[0m\u001b[0;34m,\u001b[0m \u001b[0;34m\"L|R Avg. Force\"\u001b[0m\u001b[0;34m,\u001b[0m \u001b[0;34m\"L\"\u001b[0m\u001b[0;34m]\u001b[0m\u001b[0;34m\u001b[0m\u001b[0;34m\u001b[0m\u001b[0m\n\u001b[0;32m----> 2\u001b[0;31m \u001b[0mdf_propulsive_football\u001b[0m\u001b[0;34m.\u001b[0m\u001b[0mcolumns\u001b[0m \u001b[0;34m=\u001b[0m \u001b[0;34m[\u001b[0m\u001b[0;34m\"Stage\"\u001b[0m\u001b[0;34m,\u001b[0m \u001b[0;34m\"L|R Peak Force\"\u001b[0m\u001b[0;34m,\u001b[0m \u001b[0;34m\"L|R Avg. Force\"\u001b[0m\u001b[0;34m]\u001b[0m\u001b[0;34m\u001b[0m\u001b[0;34m\u001b[0m\u001b[0m\n\u001b[0m\u001b[1;32m      3\u001b[0m \u001b[0mdf_landing_football\u001b[0m\u001b[0;34m.\u001b[0m\u001b[0mcolumns\u001b[0m \u001b[0;34m=\u001b[0m \u001b[0;34m[\u001b[0m\u001b[0;34m\"Stage\"\u001b[0m\u001b[0;34m,\u001b[0m \u001b[0;34m\"L|R Peak Force\"\u001b[0m\u001b[0;34m,\u001b[0m \u001b[0;34m\"L|R Avg. Force\"\u001b[0m\u001b[0;34m]\u001b[0m\u001b[0;34m\u001b[0m\u001b[0;34m\u001b[0m\u001b[0m\n\u001b[1;32m      4\u001b[0m \u001b[0;34m\u001b[0m\u001b[0m\n\u001b[1;32m      5\u001b[0m \u001b[0mdf_braking_m_basketball\u001b[0m\u001b[0;34m.\u001b[0m\u001b[0mcolumns\u001b[0m \u001b[0;34m=\u001b[0m \u001b[0;34m[\u001b[0m\u001b[0;34m\"Stage\"\u001b[0m\u001b[0;34m,\u001b[0m \u001b[0;34m\"L|R Peak Force\"\u001b[0m\u001b[0;34m,\u001b[0m \u001b[0;34m\"L|R Avg. Force\"\u001b[0m\u001b[0;34m]\u001b[0m\u001b[0;34m\u001b[0m\u001b[0;34m\u001b[0m\u001b[0m\n",
      "\u001b[0;32m~/opt/anaconda3/lib/python3.9/site-packages/pandas/core/generic.py\u001b[0m in \u001b[0;36m__setattr__\u001b[0;34m(self, name, value)\u001b[0m\n\u001b[1;32m   5586\u001b[0m         \u001b[0;32mtry\u001b[0m\u001b[0;34m:\u001b[0m\u001b[0;34m\u001b[0m\u001b[0;34m\u001b[0m\u001b[0m\n\u001b[1;32m   5587\u001b[0m             \u001b[0mobject\u001b[0m\u001b[0;34m.\u001b[0m\u001b[0m__getattribute__\u001b[0m\u001b[0;34m(\u001b[0m\u001b[0mself\u001b[0m\u001b[0;34m,\u001b[0m \u001b[0mname\u001b[0m\u001b[0;34m)\u001b[0m\u001b[0;34m\u001b[0m\u001b[0;34m\u001b[0m\u001b[0m\n\u001b[0;32m-> 5588\u001b[0;31m             \u001b[0;32mreturn\u001b[0m \u001b[0mobject\u001b[0m\u001b[0;34m.\u001b[0m\u001b[0m__setattr__\u001b[0m\u001b[0;34m(\u001b[0m\u001b[0mself\u001b[0m\u001b[0;34m,\u001b[0m \u001b[0mname\u001b[0m\u001b[0;34m,\u001b[0m \u001b[0mvalue\u001b[0m\u001b[0;34m)\u001b[0m\u001b[0;34m\u001b[0m\u001b[0;34m\u001b[0m\u001b[0m\n\u001b[0m\u001b[1;32m   5589\u001b[0m         \u001b[0;32mexcept\u001b[0m \u001b[0mAttributeError\u001b[0m\u001b[0;34m:\u001b[0m\u001b[0;34m\u001b[0m\u001b[0;34m\u001b[0m\u001b[0m\n\u001b[1;32m   5590\u001b[0m             \u001b[0;32mpass\u001b[0m\u001b[0;34m\u001b[0m\u001b[0;34m\u001b[0m\u001b[0m\n",
      "\u001b[0;32m~/opt/anaconda3/lib/python3.9/site-packages/pandas/_libs/properties.pyx\u001b[0m in \u001b[0;36mpandas._libs.properties.AxisProperty.__set__\u001b[0;34m()\u001b[0m\n",
      "\u001b[0;32m~/opt/anaconda3/lib/python3.9/site-packages/pandas/core/generic.py\u001b[0m in \u001b[0;36m_set_axis\u001b[0;34m(self, axis, labels)\u001b[0m\n\u001b[1;32m    767\u001b[0m     \u001b[0;32mdef\u001b[0m \u001b[0m_set_axis\u001b[0m\u001b[0;34m(\u001b[0m\u001b[0mself\u001b[0m\u001b[0;34m,\u001b[0m \u001b[0maxis\u001b[0m\u001b[0;34m:\u001b[0m \u001b[0mint\u001b[0m\u001b[0;34m,\u001b[0m \u001b[0mlabels\u001b[0m\u001b[0;34m:\u001b[0m \u001b[0mIndex\u001b[0m\u001b[0;34m)\u001b[0m \u001b[0;34m->\u001b[0m \u001b[0;32mNone\u001b[0m\u001b[0;34m:\u001b[0m\u001b[0;34m\u001b[0m\u001b[0;34m\u001b[0m\u001b[0m\n\u001b[1;32m    768\u001b[0m         \u001b[0mlabels\u001b[0m \u001b[0;34m=\u001b[0m \u001b[0mensure_index\u001b[0m\u001b[0;34m(\u001b[0m\u001b[0mlabels\u001b[0m\u001b[0;34m)\u001b[0m\u001b[0;34m\u001b[0m\u001b[0;34m\u001b[0m\u001b[0m\n\u001b[0;32m--> 769\u001b[0;31m         \u001b[0mself\u001b[0m\u001b[0;34m.\u001b[0m\u001b[0m_mgr\u001b[0m\u001b[0;34m.\u001b[0m\u001b[0mset_axis\u001b[0m\u001b[0;34m(\u001b[0m\u001b[0maxis\u001b[0m\u001b[0;34m,\u001b[0m \u001b[0mlabels\u001b[0m\u001b[0;34m)\u001b[0m\u001b[0;34m\u001b[0m\u001b[0;34m\u001b[0m\u001b[0m\n\u001b[0m\u001b[1;32m    770\u001b[0m         \u001b[0mself\u001b[0m\u001b[0;34m.\u001b[0m\u001b[0m_clear_item_cache\u001b[0m\u001b[0;34m(\u001b[0m\u001b[0;34m)\u001b[0m\u001b[0;34m\u001b[0m\u001b[0;34m\u001b[0m\u001b[0m\n\u001b[1;32m    771\u001b[0m \u001b[0;34m\u001b[0m\u001b[0m\n",
      "\u001b[0;32m~/opt/anaconda3/lib/python3.9/site-packages/pandas/core/internals/managers.py\u001b[0m in \u001b[0;36mset_axis\u001b[0;34m(self, axis, new_labels)\u001b[0m\n\u001b[1;32m    212\u001b[0m     \u001b[0;32mdef\u001b[0m \u001b[0mset_axis\u001b[0m\u001b[0;34m(\u001b[0m\u001b[0mself\u001b[0m\u001b[0;34m,\u001b[0m \u001b[0maxis\u001b[0m\u001b[0;34m:\u001b[0m \u001b[0mint\u001b[0m\u001b[0;34m,\u001b[0m \u001b[0mnew_labels\u001b[0m\u001b[0;34m:\u001b[0m \u001b[0mIndex\u001b[0m\u001b[0;34m)\u001b[0m \u001b[0;34m->\u001b[0m \u001b[0;32mNone\u001b[0m\u001b[0;34m:\u001b[0m\u001b[0;34m\u001b[0m\u001b[0;34m\u001b[0m\u001b[0m\n\u001b[1;32m    213\u001b[0m         \u001b[0;31m# Caller is responsible for ensuring we have an Index object.\u001b[0m\u001b[0;34m\u001b[0m\u001b[0;34m\u001b[0m\u001b[0m\n\u001b[0;32m--> 214\u001b[0;31m         \u001b[0mself\u001b[0m\u001b[0;34m.\u001b[0m\u001b[0m_validate_set_axis\u001b[0m\u001b[0;34m(\u001b[0m\u001b[0maxis\u001b[0m\u001b[0;34m,\u001b[0m \u001b[0mnew_labels\u001b[0m\u001b[0;34m)\u001b[0m\u001b[0;34m\u001b[0m\u001b[0;34m\u001b[0m\u001b[0m\n\u001b[0m\u001b[1;32m    215\u001b[0m         \u001b[0mself\u001b[0m\u001b[0;34m.\u001b[0m\u001b[0maxes\u001b[0m\u001b[0;34m[\u001b[0m\u001b[0maxis\u001b[0m\u001b[0;34m]\u001b[0m \u001b[0;34m=\u001b[0m \u001b[0mnew_labels\u001b[0m\u001b[0;34m\u001b[0m\u001b[0;34m\u001b[0m\u001b[0m\n\u001b[1;32m    216\u001b[0m \u001b[0;34m\u001b[0m\u001b[0m\n",
      "\u001b[0;32m~/opt/anaconda3/lib/python3.9/site-packages/pandas/core/internals/base.py\u001b[0m in \u001b[0;36m_validate_set_axis\u001b[0;34m(self, axis, new_labels)\u001b[0m\n\u001b[1;32m     67\u001b[0m \u001b[0;34m\u001b[0m\u001b[0m\n\u001b[1;32m     68\u001b[0m         \u001b[0;32melif\u001b[0m \u001b[0mnew_len\u001b[0m \u001b[0;34m!=\u001b[0m \u001b[0mold_len\u001b[0m\u001b[0;34m:\u001b[0m\u001b[0;34m\u001b[0m\u001b[0;34m\u001b[0m\u001b[0m\n\u001b[0;32m---> 69\u001b[0;31m             raise ValueError(\n\u001b[0m\u001b[1;32m     70\u001b[0m                 \u001b[0;34mf\"Length mismatch: Expected axis has {old_len} elements, new \"\u001b[0m\u001b[0;34m\u001b[0m\u001b[0;34m\u001b[0m\u001b[0m\n\u001b[1;32m     71\u001b[0m                 \u001b[0;34mf\"values have {new_len} elements\"\u001b[0m\u001b[0;34m\u001b[0m\u001b[0;34m\u001b[0m\u001b[0m\n",
      "\u001b[0;31mValueError\u001b[0m: Length mismatch: Expected axis has 4 elements, new values have 3 elements"
     ]
    }
   ],
   "source": [
    "df_braking_football.columns = [\"Stage\", \"L|R Peak Force\", \"L|R Avg. Force\", \"L|R Impulsive Index\"]\n",
    "df_propulsive_football.columns = [\"Stage\", \"L|R Peak Force\", \"L|R Avg. Force\", \"L|R Impulsive Index\"]\n",
    "df_landing_football.columns = [\"Stage\", \"L|R Peak Force\", \"L|R Avg. Force\", \"L|R Impulsive Index\"]\n",
    "\n",
    "df_braking_m_basketball.columns = [\"Stage\", \"L|R Peak Force\", \"L|R Avg. Force\", \"L|R Impulsive Index\"]\n",
    "df_propulsive_m_basketball.columns = [\"Stage\", \"L|R Peak Force\", \"L|R Avg. Force\", \"L|R Impulsive Index\"]\n",
    "df_landing_m_basketball.columns = [\"Stage\", \"L|R Peak Force\", \"L|R Avg. Force\", \"L|R Impulsive Index\"]\n",
    "\n",
    "df_braking_w_basketball.columns = [\"Stage\", \"L|R Peak Force\", \"L|R Avg. Force\", \"L|R Impulsive Index\"]\n",
    "df_propulsive_w_basketball.columns = [\"Stage\", \"L|R Peak Force\", \"L|R Avg. Force\", \"L|R Impulsive Index\"]\n",
    "df_landing_w_basketball.columns = [\"Stage\", \"L|R Peak Force\", \"L|R Avg. Force\", \"L|R Impulsive Index\"]\n",
    "\n",
    "df_braking_volleyball.columns = [\"Stage\", \"L|R Peak Force\", \"L|R Avg. Force\", \"L|R Impulsive Index\"]\n",
    "df_propulsive_volleyball.columns = [\"Stage\", \"L|R Peak Force\", \"L|R Avg. Force\", \"L|R Impulsive Index\"]\n",
    "df_landing_volleyball.columns = [\"Stage\", \"L|R Peak Force\", \"L|R Avg. Force\", \"L|R Impulsive Index\"]"
   ]
  },
  {
   "cell_type": "code",
   "execution_count": null,
   "metadata": {},
   "outputs": [],
   "source": [
    "df_final_2_football = pd.concat([df_braking_football, df_propulsive_football, df_landing_football], axis = 0)\n",
    "df_final_2_m_basketball = pd.concat([df_braking_m_basketball, df_braking_m_basketball, df_braking_m_basketball], axis = 0)\n",
    "df_final_2_w_basketball = pd.concat([df_braking_w_basketball, df_braking_w_basketball, df_braking_w_basketball], axis = 0)\n",
    "df_final_2_volleyball = pd.concat([df_braking_volleyball, df_braking_volleyball, df_braking_volleyball], axis = 0)"
   ]
  },
  {
   "cell_type": "code",
   "execution_count": null,
   "metadata": {},
   "outputs": [],
   "source": [
    "df_final_football = pd.concat([df_final_1_football, df_final_2_football], axis = 1)\n",
    "df_final_m_basketball = pd.concat([df_final_1_m_basketball, df_final_2_m_basketball], axis = 1)\n",
    "df_final_w_basketball = pd.concat([df_final_1_w_basketball, df_final_2_w_basketball], axis = 1)\n",
    "df_final_volleyball = pd.concat([df_final_1_volleyball, df_final_2_volleyball], axis = 1)\n"
   ]
  },
  {
   "cell_type": "code",
   "execution_count": null,
   "metadata": {},
   "outputs": [],
   "source": [
    "df_final_football.to_csv('football_normalize.csv', index=False)\n",
    "df_final_m_basketball.to_csv('m_basketball_normalize.csv', index=False)\n",
    "df_final_w_basketball.to_csv('w_basketball_normalize.csv', index=False)\n",
    "df_final_volleyball.to_csv('volleyball_normalize.csv', index=False)"
   ]
  }
 ],
 "metadata": {
  "kernelspec": {
   "display_name": "base",
   "language": "python",
   "name": "python3"
  },
  "language_info": {
   "codemirror_mode": {
    "name": "ipython",
    "version": 3
   },
   "file_extension": ".py",
   "mimetype": "text/x-python",
   "name": "python",
   "nbconvert_exporter": "python",
   "pygments_lexer": "ipython3",
   "version": "3.9.13"
  },
  "orig_nbformat": 4
 },
 "nbformat": 4,
 "nbformat_minor": 2
}
